{
 "cells": [
  {
   "cell_type": "markdown",
   "id": "ae650191",
   "metadata": {},
   "source": [
    "# ZRE Naive Autotune\n",
    "Author: Marek Hric xhricma00  \n",
    "GitHub repo: https://github.com/Marek324/butfit-zre/  \n",
    "Google Collab notebook: "
   ]
  }
 ],
 "metadata": {
  "language_info": {
   "name": "python"
  }
 },
 "nbformat": 4,
 "nbformat_minor": 5
}
